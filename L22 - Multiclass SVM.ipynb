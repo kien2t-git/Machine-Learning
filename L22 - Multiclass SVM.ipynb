{
 "cells": [
  {
   "cell_type": "code",
   "execution_count": 1,
   "metadata": {},
   "outputs": [],
   "source": [
    "from random import shuffle\n",
    "import numpy as np\n",
    "import matplotlib.pyplot as plt"
   ]
  },
  {
   "cell_type": "code",
   "execution_count": 2,
   "metadata": {},
   "outputs": [
    {
     "name": "stdout",
     "output_type": "stream",
     "text": [
      "/Users/apple/Downloads/assignment1\n"
     ]
    }
   ],
   "source": [
    "cd assignment1/"
   ]
  },
  {
   "cell_type": "code",
   "execution_count": 5,
   "metadata": {
    "jupyter": {
     "source_hidden": true
    }
   },
   "outputs": [],
   "source": [
    "def svm_loss_naive(W, X, y, reg):\n",
    "    d, C = W.shape\n",
    "    _, N = X.shape\n",
    "    \n",
    "    loss = 0\n",
    "    dW = np.zeros_like(W)\n",
    "    for n in range(N):\n",
    "        xn = X[:, n]\n",
    "        score = W.T.dot(xn)\n",
    "        for j in range(C):\n",
    "            if j ==y[n]:\n",
    "                continue\n",
    "            margin = 1 - score[y[n]] + score[j]\n",
    "            if margin > 0:\n",
    "                loss += margin\n",
    "                dW[:, j] += xn\n",
    "                dW[:, y[n]] -= xn\n",
    "    \n",
    "    loss /= N\n",
    "    loss += 0.5*reg*np.sum(W*W)\n",
    "    \n",
    "    dW /= N\n",
    "    dW += reg*W\n",
    "    return loss, dW"
   ]
  },
  {
   "cell_type": "code",
   "execution_count": 6,
   "metadata": {
    "collapsed": true,
    "jupyter": {
     "outputs_hidden": true,
     "source_hidden": true
    }
   },
   "outputs": [
    {
     "name": "stdout",
     "output_type": "stream",
     "text": [
      "Loss without regularizaton:  3.3848320569457657\n",
      "Loss with regularizaton:  4.227800858218987\n"
     ]
    }
   ],
   "source": [
    "N, C, d = 10, 3, 5\n",
    "reg = .1\n",
    "W = np.random.randn(d, C)\n",
    "X = np.random.randn(d, N)\n",
    "y = np.random.randint(C, size=N)\n",
    "\n",
    "print(\"Loss without regularizaton: \", svm_loss_naive(W, X, y, 0)[0])\n",
    "print(\"Loss with regularizaton: \", svm_loss_naive(W, X, y, .1)[0])"
   ]
  },
  {
   "cell_type": "code",
   "execution_count": 11,
   "metadata": {
    "jupyter": {
     "source_hidden": true
    }
   },
   "outputs": [],
   "source": [
    "def svm_loss_vectorized(W, X, y, reg):\n",
    "    d, C = W.shape\n",
    "    _, N = X.shape\n",
    "    loss = 0\n",
    "    dW = np.zeros_like(W)\n",
    "    \n",
    "    Z = W.T.dot(X)\n",
    "    \n",
    "    correct_class_score = np.choose(y, Z).reshape(N, 1).T\n",
    "    margins = np.maximum(0, Z - correct_class_score + 1)\n",
    "    margins[y, np.arange(margins.shape[1])] = 0\n",
    "    loss = np.sum(margins, axis=(0, 1))\n",
    "    loss /= N\n",
    "    loss += 0.5 * reg * np.sum(W*W)\n",
    "    \n",
    "    F = (margins > 0).astype(int)\n",
    "    F[y, np.arange(F.shape[1])] = np.sum(-F, axis=0)\n",
    "    dW = X.dot(F.T)/N + reg*W\n",
    "    return loss, dW"
   ]
  },
  {
   "cell_type": "code",
   "execution_count": 12,
   "metadata": {
    "collapsed": true,
    "jupyter": {
     "outputs_hidden": true,
     "source_hidden": true
    }
   },
   "outputs": [
    {
     "name": "stdout",
     "output_type": "stream",
     "text": [
      "Naive run time:  32.44379687309265  s\n",
      "Vectorized run time:  0.37920594215393066  s\n",
      "Loss difference:  5.9117155615240335e-12\n",
      "gradient difference:  2.7411823641150342e-14\n"
     ]
    }
   ],
   "source": [
    "N, C, d = 49000, 10, 3073\n",
    "reg = .1\n",
    "W = np.random.randn(d, C)\n",
    "X = np.random.randn(d, N)\n",
    "y = np.random.randint(C, size=N)\n",
    "\n",
    "import time\n",
    "t1 = time.time()\n",
    "l1, dW1 = svm_loss_naive(W, X, y, reg)\n",
    "t2 = time.time()\n",
    "print(\"Naive run time: \", t2-t1, \" s\")\n",
    "\n",
    "t1 = time.time()\n",
    "l2, dW2 = svm_loss_vectorized(W, X, y, reg)\n",
    "t2 = time.time()\n",
    "print(\"Vectorized run time: \", t2-t1, \" s\")\n",
    "print(\"Loss difference: \",  np.linalg.norm(l1-l2))\n",
    "print(\"gradient difference: \", np.linalg.norm(dW1-dW2))"
   ]
  },
  {
   "cell_type": "code",
   "execution_count": 24,
   "metadata": {
    "collapsed": true,
    "jupyter": {
     "outputs_hidden": true,
     "source_hidden": true
    }
   },
   "outputs": [
    {
     "name": "stdout",
     "output_type": "stream",
     "text": [
      "W =  (3073, 10)\n",
      "X =  (3073, 49000)\n",
      "y =  (49000,)\n"
     ]
    }
   ],
   "source": [
    "print(\"W = \", W.shape)\n",
    "print(\"X = \", X.shape)\n",
    "print(\"y = \", y.shape)"
   ]
  },
  {
   "cell_type": "code",
   "execution_count": 42,
   "metadata": {
    "jupyter": {
     "source_hidden": true
    }
   },
   "outputs": [],
   "source": [
    "def multiclass_svm_GD(X, y, Winit, reg, lr=.1, batch_size=100, num_iters=1000, print_every=100):\n",
    "    W = Winit\n",
    "    loss_history = np.zeros((num_iters))\n",
    "    for it in range(num_iters):\n",
    "        idx = np.random.choice(X.shape[1], batch_size)\n",
    "        X_batch = X[:, idx]\n",
    "        y_batch = y[idx]\n",
    "        \n",
    "        loss_history[it], dW = svm_loss_vectorized(W, X_batch, y_batch, reg)\n",
    "        \n",
    "        W -= lr*dW\n",
    "        if it % print_every ==1:\n",
    "            print(\"it %d/%d, loss = %f\" %(it, num_iters, loss_history[it]))\n",
    "    return W, loss_history"
   ]
  },
  {
   "cell_type": "code",
   "execution_count": 43,
   "metadata": {
    "collapsed": true,
    "jupyter": {
     "outputs_hidden": true,
     "source_hidden": true
    }
   },
   "outputs": [
    {
     "name": "stdout",
     "output_type": "stream",
     "text": [
      "it 1/1000, loss = 1865.712543\n",
      "it 101/1000, loss = 250.982481\n",
      "it 201/1000, loss = 57.264287\n",
      "it 301/1000, loss = 47.199708\n",
      "it 401/1000, loss = 46.257124\n",
      "it 501/1000, loss = 45.641876\n",
      "it 601/1000, loss = 41.919911\n",
      "it 701/1000, loss = 40.900015\n",
      "it 801/1000, loss = 37.723659\n",
      "it 901/1000, loss = 44.845825\n"
     ]
    }
   ],
   "source": [
    "N, C, d = 49000, 10, 3073\n",
    "reg = .1\n",
    "W = np.random.randn(d, C)\n",
    "X = np.random.randn(d, N)\n",
    "y = np.random.randint(C, size=N)\n",
    "\n",
    "w1, loss_histrory = multiclass_svm_GD(X, y, W, reg)"
   ]
  },
  {
   "cell_type": "code",
   "execution_count": 3,
   "metadata": {},
   "outputs": [
    {
     "name": "stdout",
     "output_type": "stream",
     "text": [
      "(50000, 32, 32, 3)\n",
      "(50000,)\n",
      "(10000, 32, 32, 3)\n",
      "(10000,)\n"
     ]
    }
   ],
   "source": [
    "from cs231n.data_utils import load_CIFAR10\n",
    "\n",
    "cifar10_dir = 'cs231n/datasets/cifar-10-batches-py'\n",
    "# Clear previous data\n",
    "try:\n",
    "   del Xtr, Ytr\n",
    "   del Xte, Yte\n",
    "   print('Clear previously loaded data.')\n",
    "except:\n",
    "   pass\n",
    "# Load data from file\n",
    "Xtr, Ytr, Xte, Yte = load_CIFAR10(cifar10_dir)\n",
    "print(Xtr.shape)\n",
    "print(Ytr.shape)\n",
    "print(Xte.shape)\n",
    "print(Yte.shape)"
   ]
  },
  {
   "cell_type": "code",
   "execution_count": 4,
   "metadata": {},
   "outputs": [
    {
     "name": "stdout",
     "output_type": "stream",
     "text": [
      "Train data:  (49000, 3072)\n",
      "Train label:  (49000,)\n",
      "Validation data:  (1000, 3072)\n",
      "Validation label:  (1000,)\n",
      "Development data:  (500, 3072)\n",
      "Development label:  (500,)\n"
     ]
    }
   ],
   "source": [
    "Xtr = Xtr.reshape(Xtr.shape[0], 32*32*3) # 50000 x 3072\n",
    "Xte = Xte.reshape(Xte.shape[0], 32*32*3) # 10000 x 3072\n",
    "Xval = Xtr[:1000, :] # take first 1000 for validation\n",
    "Yval = Ytr[:1000]\n",
    "Xtr = Xtr[1000:, :] # keep last 49000 for train\n",
    "Ytr = Ytr[1000:]\n",
    "Xdev = Xtr[np.random.choice(Xtr.shape[0], 500, replace=False)]\n",
    "Ydev = Ytr[np.random.choice(Xtr.shape[0], 500, replace=False)]\n",
    "Xte = Xte[:1000]\n",
    "Yte = Yte[:1000]\n",
    "\n",
    "print(\"Train data: \", Xtr.shape)\n",
    "print(\"Train label: \", Ytr.shape)\n",
    "print(\"Validation data: \", Xval.shape)\n",
    "print(\"Validation label: \", Yval.shape)\n",
    "print(\"Development data: \", Xdev.shape)\n",
    "print(\"Development label: \", Ydev.shape)"
   ]
  },
  {
   "cell_type": "code",
   "execution_count": 5,
   "metadata": {},
   "outputs": [
    {
     "name": "stdout",
     "output_type": "stream",
     "text": [
      "Train data:  (49000, 3073)\n",
      "Validation data:  (1000, 3073)\n",
      "Development data:  (500, 3073)\n",
      "Test data:  (1000, 3073)\n"
     ]
    }
   ],
   "source": [
    "mean_image = np.mean(Xtr, axis=0)\n",
    "\n",
    "Xtr -= mean_image\n",
    "Xval -= mean_image\n",
    "Xdev -= mean_image\n",
    "Xte -= mean_image\n",
    "\n",
    "Xtr = np.hstack([Xtr, np.ones((Xtr.shape[0], 1))])\n",
    "Xval = np.hstack([Xval, np.ones((Xval.shape[0], 1))])\n",
    "Xdev = np.hstack([Xdev, np.ones((Xdev.shape[0], 1))])\n",
    "Xte = np.hstack([Xte, np.ones((Xte.shape[0], 1))])\n",
    "\n",
    "print(\"Train data: \", Xtr.shape)\n",
    "print(\"Validation data: \", Xval.shape)\n",
    "print(\"Development data: \", Xdev.shape)\n",
    "print(\"Test data: \", Xte.shape)"
   ]
  },
  {
   "cell_type": "code",
   "execution_count": 33,
   "metadata": {
    "collapsed": true,
    "jupyter": {
     "outputs_hidden": true,
     "source_hidden": true
    }
   },
   "outputs": [
    {
     "name": "stdout",
     "output_type": "stream",
     "text": [
      "Naive run time:  0.18834733963012695  s\n",
      "Vectorized run time:  0.0057451725006103516  s\n",
      "Loss difference: 0.000000\n",
      "gradient difference: 0.000000\n"
     ]
    }
   ],
   "source": [
    "reg = .0001\n",
    "W = np.random.randn(3073, 10) * 0.0001\n",
    "\n",
    "t1 = time.time()\n",
    "l1, dW1 = svm_loss_naive(W, Xdev.T, Ydev, reg)\n",
    "t2 = time.time()\n",
    "print(\"Naive run time: \", t2-t1, \" s\")\n",
    "\n",
    "t1 = time.time()\n",
    "l2, dW2 = svm_loss_vectorized(W, Xdev.T, Ydev, reg)\n",
    "t2 = time.time()\n",
    "print(\"Vectorized run time: \", t2-t1, \" s\")\n",
    "print(\"Loss difference: %f\" %np.linalg.norm(l1-l2))\n",
    "print(\"gradient difference: %f\" %np.linalg.norm(dW1-dW2, ord='fro'))"
   ]
  },
  {
   "cell_type": "code",
   "execution_count": 45,
   "metadata": {
    "collapsed": true,
    "jupyter": {
     "outputs_hidden": true,
     "source_hidden": true
    }
   },
   "outputs": [
    {
     "name": "stdout",
     "output_type": "stream",
     "text": [
      "it 1/1500, loss = 8980596047.260258\n",
      "it 101/1500, loss = 56786831.675077\n",
      "it 201/1500, loss = 359090.553371\n",
      "it 301/1500, loss = 2261.631445\n",
      "it 401/1500, loss = 16.920966\n",
      "it 501/1500, loss = 6.335840\n",
      "it 601/1500, loss = 5.752169\n",
      "it 701/1500, loss = 6.188099\n",
      "it 801/1500, loss = 6.612970\n",
      "it 901/1500, loss = 5.901136\n",
      "it 1001/1500, loss = 5.767022\n",
      "it 1101/1500, loss = 5.760328\n",
      "it 1201/1500, loss = 5.420227\n",
      "it 1301/1500, loss = 6.399105\n",
      "it 1401/1500, loss = 5.546385\n"
     ]
    }
   ],
   "source": [
    "reg = 5e4\n",
    "w1, loss_history = multiclass_svm_GD(Xtr_rows.T, Ytr, W, reg, lr=5e-7, num_iters=1500)"
   ]
  },
  {
   "cell_type": "code",
   "execution_count": 7,
   "metadata": {},
   "outputs": [],
   "source": [
    "from cs231n.classifiers.linear_svm import *"
   ]
  },
  {
   "cell_type": "code",
   "execution_count": 46,
   "metadata": {
    "collapsed": true,
    "jupyter": {
     "outputs_hidden": true,
     "source_hidden": true
    }
   },
   "outputs": [
    {
     "data": {
      "image/png": "[encoded data removed]",
      "text/plain": [
       "<Figure size 432x288 with 1 Axes>"
      ]
     },
     "metadata": {
      "needs_background": "light"
     },
     "output_type": "display_data"
    }
   ],
   "source": [
    "plt.plot(loss_history)\n",
    "plt.show()"
   ]
  },
  {
   "cell_type": "code",
   "execution_count": 8,
   "metadata": {},
   "outputs": [
    {
     "name": "stdout",
     "output_type": "stream",
     "text": [
      "Naive loss: 9.070368\n"
     ]
    }
   ],
   "source": [
    "W = np.random.randn(3073, 10) * 0.0001\n",
    "loss1, grad1 = svm_loss_naive(W, Xdev, Ydev, 0.000005)\n",
    "# loss2, grad2 = svm_loss_vectorized(W, Xdev, Ydev, 0.0001)\n",
    "\n",
    "print(\"Naive loss: %f\" %loss1)\n",
    "# print(\"Vectorized loss: \", loss2)\n",
    "# print(\"Difference: \", np.linalg.norm(grad1 - grad2, ord='fro'))"
   ]
  },
  {
   "cell_type": "code",
   "execution_count": 8,
   "metadata": {},
   "outputs": [
    {
     "name": "stdout",
     "output_type": "stream",
     "text": [
      "numerical: 19.448358 analytic: 19.448358, relative error: 1.293745e-11\n",
      "numerical: 2.853086 analytic: 2.853086, relative error: 1.207566e-10\n",
      "numerical: -1.712979 analytic: -1.712979, relative error: 8.758878e-12\n",
      "numerical: 9.677122 analytic: 9.677122, relative error: 4.966284e-13\n",
      "numerical: -11.572959 analytic: -11.572959, relative error: 1.567691e-11\n",
      "numerical: -10.512901 analytic: -10.512901, relative error: 1.339918e-11\n",
      "numerical: 9.573070 analytic: 9.573070, relative error: 1.912311e-11\n",
      "numerical: 5.636080 analytic: 5.636080, relative error: 8.401646e-12\n",
      "numerical: -1.744306 analytic: -1.744306, relative error: 2.936942e-11\n",
      "numerical: 12.033721 analytic: 12.033721, relative error: 1.059218e-11\n",
      "numerical: -8.290831 analytic: -8.290831, relative error: 5.091452e-11\n",
      "numerical: 0.567679 analytic: 0.567679, relative error: 4.347455e-10\n",
      "numerical: 12.702580 analytic: 12.702580, relative error: 2.835511e-12\n",
      "numerical: 2.233226 analytic: 2.233226, relative error: 1.894417e-11\n",
      "numerical: -9.507538 analytic: -9.507538, relative error: 2.023843e-11\n",
      "numerical: -3.729788 analytic: -3.729788, relative error: 2.906890e-11\n",
      "numerical: -9.904863 analytic: -9.904863, relative error: 4.550164e-11\n",
      "numerical: -14.326383 analytic: -14.326383, relative error: 9.485450e-12\n",
      "numerical: 2.654317 analytic: 2.654317, relative error: 1.987723e-11\n",
      "numerical: -8.208246 analytic: -8.208246, relative error: 3.010930e-12\n"
     ]
    }
   ],
   "source": [
    "loss, grad = svm_loss_naive(W, Xdev, Ydev, 0.0)\n",
    "\n",
    "from cs231n.gradient_check import grad_check_sparse\n",
    "f = lambda w: svm_loss_naive(w, Xdev, Ydev, 0.0)[0]\n",
    "grad_numerical = grad_check_sparse(f, W, grad)\n",
    "\n",
    "loss, grad = svm_loss_naive(W, Xdev, Ydev, 5e1)\n",
    "f = lambda w: svm_loss_naive(w, Xdev, Ydev, 5e1)[0]\n",
    "grad_numerical = grad_check_sparse(f, W, grad)"
   ]
  },
  {
   "cell_type": "code",
   "execution_count": 9,
   "metadata": {},
   "outputs": [
    {
     "name": "stdout",
     "output_type": "stream",
     "text": [
      "Naive loss: 9.070368e+00 computed in 0.397194 s\n",
      "Vectorized loss: 9.070368e+00 computed in 0.016785 s\n",
      "Difference: 0.000000\n",
      "Naive loss and gradient: computed in 0.264623 s\n",
      "Vectorized loss and gradient: computed in 0.005687 s\n",
      "Difference: 0.000000 \n"
     ]
    }
   ],
   "source": [
    "import time\n",
    "\n",
    "tic = time.time()\n",
    "l1, g1 = svm_loss_naive(W, Xdev, Ydev, 0.000005)\n",
    "toc = time.time()\n",
    "print(\"Naive loss: %e computed in %f s\" %(l1, toc - tic))\n",
    "\n",
    "tic = time.time()\n",
    "l2, _ = svm_loss_vectorized(W, Xdev, Ydev, 0.000005)\n",
    "toc = time.time()\n",
    "print(\"Vectorized loss: %e computed in %f s\" %(l2, toc - tic))\n",
    "\n",
    "print(\"Difference: %f\" %(l1 - l2))\n",
    "\n",
    "tic = time.time()\n",
    "_, g1 = svm_loss_naive(W, Xdev, Ydev, 0.000005)\n",
    "toc = time.time()\n",
    "print(\"Naive loss and gradient: computed in %f s\" %(toc - tic))\n",
    "\n",
    "tic = time.time()\n",
    "_, g2 = svm_loss_vectorized(W, Xdev, Ydev, 0.000005)\n",
    "toc = time.time()\n",
    "print(\"Vectorized loss and gradient: computed in %f s\" %(toc - tic))\n",
    "\n",
    "difference = np.linalg.norm(g1 - g2, ord='fro')\n",
    "print(\"Difference: %f \" %difference)"
   ]
  },
  {
   "cell_type": "code",
   "execution_count": 16,
   "metadata": {},
   "outputs": [
    {
     "name": "stdout",
     "output_type": "stream",
     "text": [
      "iteration 0 / 1500: loss 787.455917\n",
      "iteration 100 / 1500: loss 11.013106\n",
      "iteration 200 / 1500: loss 6.339079\n",
      "iteration 300 / 1500: loss 6.071987\n",
      "iteration 400 / 1500: loss 5.839518\n",
      "iteration 500 / 1500: loss 5.449061\n",
      "iteration 600 / 1500: loss 5.272079\n",
      "iteration 700 / 1500: loss 6.070000\n",
      "iteration 800 / 1500: loss 5.982912\n",
      "iteration 900 / 1500: loss 5.944096\n",
      "iteration 1000 / 1500: loss 5.983709\n",
      "iteration 1100 / 1500: loss 5.162269\n",
      "iteration 1200 / 1500: loss 5.639383\n",
      "iteration 1300 / 1500: loss 5.160007\n",
      "iteration 1400 / 1500: loss 5.400599\n"
     ]
    }
   ],
   "source": [
    "from cs231n.classifiers import LinearSVM\n",
    "svm = LinearSVM()\n",
    "loss_hist = svm.train(Xtr, Ytr, learning_rate=5e-7, reg=5e4, num_iters=1500, verbose=True)"
   ]
  },
  {
   "cell_type": "code",
   "execution_count": 17,
   "metadata": {},
   "outputs": [
    {
     "data": {
      "image/png": "[encoded data removed]",
      "text/plain": [
       "<Figure size 432x288 with 1 Axes>"
      ]
     },
     "metadata": {
      "needs_background": "light"
     },
     "output_type": "display_data"
    }
   ],
   "source": [
    "plt.plot(loss_hist)\n",
    "plt.xlabel('Iteration number')\n",
    "plt.ylabel('Loss value')\n",
    "plt.show()"
   ]
  },
  {
   "cell_type": "code",
   "execution_count": 18,
   "metadata": {},
   "outputs": [
    {
     "name": "stdout",
     "output_type": "stream",
     "text": [
      "Training accuracy: 0.351633\n",
      "validation accuracy: 0.353000\n"
     ]
    }
   ],
   "source": [
    "Ytr_pred = svm.predict(Xtr)\n",
    "print(\"Training accuracy: %f\" %(np.mean(Ytr==Ytr_pred),))\n",
    "Yval_pred = svm.predict(Xval)\n",
    "print(\"validation accuracy: %f\" %(np.mean(Yval==Yval_pred)))"
   ]
  },
  {
   "cell_type": "code",
   "execution_count": 20,
   "metadata": {},
   "outputs": [
    {
     "name": "stdout",
     "output_type": "stream",
     "text": [
      "1e-07 20000.0 0.38271428571428573 0.38\n",
      "1e-07 25000.0 0.3828367346938776 0.369\n",
      "1e-07 30000.0 0.3727755102040816 0.37\n",
      "1e-07 35000.0 0.3744081632653061 0.373\n",
      "1e-07 40000.0 0.36918367346938774 0.373\n",
      "1e-07 45000.0 0.37520408163265306 0.37\n",
      "1e-07 50000.0 0.3697142857142857 0.364\n",
      "1e-07 60000.0 0.3637959183673469 0.358\n",
      "1e-06 20000.0 0.29183673469387755 0.269\n",
      "1e-06 25000.0 0.31971428571428573 0.301\n",
      "1e-06 30000.0 0.27855102040816326 0.281\n",
      "1e-06 35000.0 0.2724285714285714 0.24\n",
      "1e-06 40000.0 0.289734693877551 0.292\n",
      "1e-06 45000.0 0.30787755102040815 0.303\n",
      "1e-06 50000.0 0.2602244897959184 0.259\n",
      "1e-06 60000.0 0.295734693877551 0.308\n",
      "lr 1.000000e-07 reg 2.000000e+04 train accuracy: 0.382714 val accuracy: 0.380000\n",
      "lr 1.000000e-07 reg 2.500000e+04 train accuracy: 0.382837 val accuracy: 0.369000\n",
      "lr 1.000000e-07 reg 3.000000e+04 train accuracy: 0.372776 val accuracy: 0.370000\n",
      "lr 1.000000e-07 reg 3.500000e+04 train accuracy: 0.374408 val accuracy: 0.373000\n",
      "lr 1.000000e-07 reg 4.000000e+04 train accuracy: 0.369184 val accuracy: 0.373000\n",
      "lr 1.000000e-07 reg 4.500000e+04 train accuracy: 0.375204 val accuracy: 0.370000\n",
      "lr 1.000000e-07 reg 5.000000e+04 train accuracy: 0.369714 val accuracy: 0.364000\n",
      "lr 1.000000e-07 reg 6.000000e+04 train accuracy: 0.363796 val accuracy: 0.358000\n",
      "lr 1.000000e-06 reg 2.000000e+04 train accuracy: 0.291837 val accuracy: 0.269000\n",
      "lr 1.000000e-06 reg 2.500000e+04 train accuracy: 0.319714 val accuracy: 0.301000\n",
      "lr 1.000000e-06 reg 3.000000e+04 train accuracy: 0.278551 val accuracy: 0.281000\n",
      "lr 1.000000e-06 reg 3.500000e+04 train accuracy: 0.272429 val accuracy: 0.240000\n",
      "lr 1.000000e-06 reg 4.000000e+04 train accuracy: 0.289735 val accuracy: 0.292000\n",
      "lr 1.000000e-06 reg 4.500000e+04 train accuracy: 0.307878 val accuracy: 0.303000\n",
      "lr 1.000000e-06 reg 5.000000e+04 train accuracy: 0.260224 val accuracy: 0.259000\n",
      "lr 1.000000e-06 reg 6.000000e+04 train accuracy: 0.295735 val accuracy: 0.308000\n",
      "Best validation: 0.380000\n"
     ]
    }
   ],
   "source": [
    "learning_rates = [1e-7, 1e-6]\n",
    "regularization_strengths = [2e4, 2.5e4, 3e4, 3.5e4, 4e4, 4.5e4, 5e4, 6e4]\n",
    "\n",
    "results = {}\n",
    "best_val = -1\n",
    "best_svm = None\n",
    "\n",
    "for lr in learning_rates:\n",
    "    for r in regularization_strengths:\n",
    "        svm = LinearSVM()\n",
    "        loss_hist = svm.train(Xtr, Ytr, learning_rate=lr, reg=r, num_iters=2500, verbose=False)\n",
    "        Ytr_pred = svm.predict(Xtr)\n",
    "        Yval_pred = svm.predict(Xval)\n",
    "        acc_train = np.mean(Ytr == Ytr_pred)\n",
    "        acc_val = np.mean(Yval == Yval_pred)\n",
    "        results[(lr, r)] = (acc_train, acc_val)\n",
    "        print(lr, r, acc_train, acc_val)\n",
    "        if acc_val > best_val:\n",
    "            best_val = acc_val\n",
    "            best_svm = svm\n",
    "            \n",
    "for lr, reg in sorted(results):\n",
    "    train_accuracy, val_accuracy = results[(lr, reg)]\n",
    "    print(\"lr %e reg %e train accuracy: %f val accuracy: %f\" %(lr, reg, train_accuracy, val_accuracy))\n",
    "    \n",
    "print(\"Best validation: %f\" %best_val)"
   ]
  },
  {
   "cell_type": "code",
   "execution_count": 24,
   "metadata": {},
   "outputs": [
    {
     "data": {
      "image/png": "[encoded data removed]",
      "text/plain": [
       "<Figure size 720x576 with 4 Axes>"
      ]
     },
     "metadata": {
      "needs_background": "light"
     },
     "output_type": "display_data"
    }
   ],
   "source": [
    "import math\n",
    "\n",
    "x_scatter = [math.log10(x[0]) for x in results]\n",
    "y_scatter = [math.log10(x[1]) for x in results]\n",
    "\n",
    "marker_size = 100\n",
    "colors = [results[x][0] for x in results]\n",
    "plt.figure(figsize=(10, 8))\n",
    "plt.subplot(2, 1, 1)\n",
    "plt.scatter(x_scatter, y_scatter, marker_size, c=colors)\n",
    "plt.colorbar()\n",
    "\n",
    "colors = [results[x][1] for x in results]\n",
    "plt.subplot(2, 1, 2)\n",
    "plt.scatter(x_scatter, y_scatter, marker_size, c=colors)\n",
    "plt.colorbar()\n",
    "plt.show()"
   ]
  },
  {
   "cell_type": "code",
   "execution_count": 32,
   "metadata": {},
   "outputs": [
    {
     "name": "stdout",
     "output_type": "stream",
     "text": [
      "Linear SVM on raw pixel test set accuracy: 38.00 %\n"
     ]
    }
   ],
   "source": [
    "# Use best_svm (best of learning rate & regularization strength) to predict on test set\n",
    "Yte_pred = best_svm.predict(Xte)\n",
    "test_accuracy = np.mean(Yte == Yte_pred)\n",
    "print(\"Linear SVM on raw pixel test set accuracy: %.2f %%\" % int(100*test_accuracy))"
   ]
  },
  {
   "cell_type": "code",
   "execution_count": 37,
   "metadata": {},
   "outputs": [
    {
     "data": {
      "image/png": "[encoded data removed]",
      "text/plain": [
       "<Figure size 432x288 with 10 Axes>"
      ]
     },
     "metadata": {
      "needs_background": "light"
     },
     "output_type": "display_data"
    }
   ],
   "source": [
    "w = best_svm.W[:-1, :] # remove bias trick [3072 x 10]\n",
    "w = w.reshape(32, 32, 3, 10)\n",
    "w_min, w_max = np.min(w), np.max(w)\n",
    "classes = ['plane', 'car', 'bird', 'cat', 'deer', 'dog', 'frog', 'horse', 'ship', 'truck']\n",
    "for i in range(10):\n",
    "    plt.subplot(2, 5, i+1)\n",
    "    wimg = 255.0 * (w[:, :, :, i].squeeze() - w_min) / (w_max - w_min)\n",
    "    plt.imshow(wimg.astype('uint8'))\n",
    "    plt.axis('off')\n",
    "    plt.title(classes[i])"
   ]
  }
 ],
 "metadata": {
  "kernelspec": {
   "display_name": "Python 3",
   "language": "python",
   "name": "python3"
  },
  "language_info": {
   "codemirror_mode": {
    "name": "ipython",
    "version": 3
   },
   "file_extension": ".py",
   "mimetype": "text/x-python",
   "name": "python",
   "nbconvert_exporter": "python",
   "pygments_lexer": "ipython3",
   "version": "3.8.5"
  }
 },
 "nbformat": 4,
 "nbformat_minor": 4
}
