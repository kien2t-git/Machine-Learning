{
 "cells": [
  {
   "cell_type": "code",
   "execution_count": 5,
   "metadata": {},
   "outputs": [],
   "source": [
    "import pandas as pd\n",
    "import numpy as np\n",
    "from sklearn.metrics.pairwise import cosine_similarity\n",
    "from scipy import sparse"
   ]
  },
  {
   "cell_type": "code",
   "execution_count": 11,
   "metadata": {},
   "outputs": [],
   "source": [
    "class CF(object):\n",
    "    def __init__(self, Ydata, k, dist_func=cosine_similarity, uuCF=1):\n",
    "        self.uuCF = uuCF # user-user (1) or item-item (0) CF\n",
    "        self.Ydata = Ydata if uuCF else Ydata[:, [1, 0, 2]]\n",
    "        self.k = k # number of neighbor points\n",
    "        self.dist_func = dist_func\n",
    "        self.Ybar_data = None\n",
    "        # number of users and items. Add 1 cause id starts from 0\n",
    "        self.n_users = int(np.max(self.Ydata[:, 0])) + 1\n",
    "        self.n_items = int(np.max(self.Ydata[:, 1])) + 1\n",
    "        \n",
    "    def add(self, new_data):\n",
    "        \"\"\"\n",
    "        Update Ydata matrix when new ratings come\n",
    "        \"\"\"\n",
    "        self.Ydata = np.concatenate((self.Ydata, new_data), axis=0)\n",
    "\n",
    "    def normalize_Y(self):\n",
    "        users = self.Ydata[:, 0]\n",
    "        self.Ybar_data = self.Ydata.copy()\n",
    "        self.mu = np.zeros((self.n_users,))\n",
    "        for n in range(self.n_users):\n",
    "            # row indices of rating done by user n\n",
    "            # since indices need to be integers, we nee to convert\n",
    "            ids = np.where(users == n)[0].astype(np.int32)\n",
    "            # indices of all ratings associated with user n\n",
    "            item_ids = self.Ydata[ids, 1]\n",
    "            # and the corresponding ratings\n",
    "            ratings = self.Ydata[ids, 2]\n",
    "            # take mean\n",
    "            m = np.mean(ratings)\n",
    "            if np.isnan(m):\n",
    "                m = 0 # to avoid empty array and nan value\n",
    "            # normalize\n",
    "            self.Ybar_data[ids, 2] = ratings - self.mu[n]\n",
    "\n",
    "        self.Ybar = sparse.coo_matrix((self.Ybar_data[:, 2], (self.Ybar_data[:, 1], self.Ybar_data[:, 0])), (self.n_items, self.n_users))\n",
    "        self.Ybar = self.Ybar.tocsr()\n",
    "\n",
    "    def similarity(self):\n",
    "        self.S = self.dist_func(self.Ybar.T, self.Ybar.T)\n",
    "\n",
    "    def refresh(self):\n",
    "        \"\"\"\n",
    "        Normalize data and calculate similarity matrix again\n",
    "        \"\"\"\n",
    "        self.normalize_Y()\n",
    "        self.similarity()\n",
    "\n",
    "    def fit(self):\n",
    "        self.refresh()\n",
    "        \n",
    "    def __pred(self, u, i, normalized = 1):\n",
    "        \"\"\"\n",
    "        predict the rating of user u for item i (normalized)\n",
    "        \"\"\"\n",
    "        # Step 1: find all users who rated i\n",
    "        ids = np.where(self.Ydata[:, 1] == i)[0].astype(np.int32)\n",
    "        # Step 2:\n",
    "        users_rated_i = (self.Ydata[ids, 0]).astype(np.int32)\n",
    "        # Step 3: find simularity btw the current user and others who already rated i\n",
    "        sim = self.S[u, users_rated_i]\n",
    "        # Step 4: find the k most similarity users\n",
    "        a = np.argsort(sim)[-self.k:]\n",
    "        # and the corresponding similarity levels\n",
    "        nearest_s = sim[a]\n",
    "        # How did each of 'near' users rated item i\n",
    "        r = self.Ybar[i, users_rated_i[a]]\n",
    "        if normalized:\n",
    "            # add a small number, for instance, 1e-8, to avoid dividing by 0\n",
    "            return (r*nearest_s)[0]/(np.abs(nearest_s).sum() + 1e-8)\n",
    "\n",
    "        return (r*nearest_s)[0]/(np.abs(nearest_s).sum() + 1e-8) + self.mu[u]\n",
    "\n",
    "    def pred(self, u, i, normalized = 1):\n",
    "        \"\"\"\n",
    "        predict the rating of user u for item i (normalized)\n",
    "        \"\"\"\n",
    "        if self.uuCF: return self.__pred(u, i, normalized)\n",
    "        return self.__pred(i, u, normalized)\n",
    "\n",
    "    def recommend(self, u, normalized = 1):\n",
    "        \"\"\"\n",
    "        Determine all items should be recommended for user u (uuCF=1)\n",
    "        or all users who might have interest on item u (uuCF=0)\n",
    "        The decision is made based on all i such that:\n",
    "        self.pred(u, i) > 0. Suppose we are considering items which have not been rated by u yet\n",
    "        \"\"\"\n",
    "        ids = np.where(self.Ydata[:, 0] == u)[0]\n",
    "        items_rated_by_u = self.Ydata[ids, 1].tolist()\n",
    "        recommended_items = []\n",
    "        for i in range(self.n_items):\n",
    "            if i not in items_rated_by_u:\n",
    "                rating = self.__pred(u, i)\n",
    "                if rating > 0:\n",
    "                    recommended_items.append(i)\n",
    "\n",
    "        return recommended_items\n",
    "\n",
    "    def print_recommendation(self):\n",
    "        \"\"\"\n",
    "        print all items which should be recommended for each user\n",
    "        \"\"\"\n",
    "        print('Recommendation: ')\n",
    "        for u in range(self.n_users):\n",
    "            recommended_items = self.recommend(u)\n",
    "            if self.uuCF:\n",
    "                print('Recommend item(s): ', recommended_items, 'to user', u)\n",
    "            else:\n",
    "                print('Recommend item', u, 'to user(s): ', recommended_items)"
   ]
  },
  {
   "cell_type": "code",
   "execution_count": 9,
   "metadata": {},
   "outputs": [],
   "source": [
    "r_cols = ['user_id', 'movie_id', 'rating', 'unix_timestamp']\n",
    "\n",
    "rating_base = pd.read_csv('ml-100k/ub.base', sep='\\t', names=r_cols)\n",
    "rating_test = pd.read_csv('ml-100k/ub.test', sep='\\t', names=r_cols)\n",
    "\n",
    "rate_train = rating_base.values\n",
    "rate_test = rating_test.values\n",
    "\n",
    "# indices start from 0\n",
    "rate_train[:, :2] -= 1\n",
    "rate_test[:, :2] -= 1"
   ]
  },
  {
   "cell_type": "code",
   "execution_count": 12,
   "metadata": {},
   "outputs": [
    {
     "name": "stdout",
     "output_type": "stream",
     "text": [
      "User-user CF, RMSE =  1.0369740376881258\n"
     ]
    }
   ],
   "source": [
    "rs = CF(rate_train, k=30, uuCF=1)\n",
    "rs.fit()\n",
    "\n",
    "n_test = rate_test.shape[0]\n",
    "SE = 0 # square error\n",
    "for n in range(n_test):\n",
    "    pred = rs.pred(rate_test[n, 0], rate_test[n, 1], normalized=0)\n",
    "    SE += (pred - rate_test[n, 2])**2\n",
    "    \n",
    "RMSE = np.sqrt(SE/n_test)\n",
    "print(\"User-user CF, RMSE = \", RMSE)"
   ]
  },
  {
   "cell_type": "code",
   "execution_count": 13,
   "metadata": {},
   "outputs": [
    {
     "name": "stderr",
     "output_type": "stream",
     "text": [
      "/Users/apple/opt/anaconda3/lib/python3.8/site-packages/numpy/core/fromnumeric.py:3372: RuntimeWarning: Mean of empty slice.\n",
      "  return _methods._mean(a, axis=axis, dtype=dtype,\n",
      "/Users/apple/opt/anaconda3/lib/python3.8/site-packages/numpy/core/_methods.py:170: RuntimeWarning: invalid value encountered in double_scalars\n",
      "  ret = ret.dtype.type(ret / rcount)\n"
     ]
    },
    {
     "name": "stdout",
     "output_type": "stream",
     "text": [
      "Item-item CF, RMSE =  1.0177591959372823\n"
     ]
    }
   ],
   "source": [
    "rs = CF(rate_train, k=30, uuCF=0)\n",
    "rs.fit()\n",
    "\n",
    "n_test = rate_test.shape[0]\n",
    "SE = 0 # square error\n",
    "for n in range(n_test):\n",
    "    pred = rs.pred(rate_test[n, 0], rate_test[n, 1], normalized=0)\n",
    "    SE += (pred - rate_test[n, 2])**2\n",
    "    \n",
    "RMSE = np.sqrt(SE/n_test)\n",
    "print(\"Item-item CF, RMSE = \", RMSE)"
   ]
  }
 ],
 "metadata": {
  "kernelspec": {
   "display_name": "Python 3",
   "language": "python",
   "name": "python3"
  },
  "language_info": {
   "codemirror_mode": {
    "name": "ipython",
    "version": 3
   },
   "file_extension": ".py",
   "mimetype": "text/x-python",
   "name": "python",
   "nbconvert_exporter": "python",
   "pygments_lexer": "ipython3",
   "version": "3.8.5"
  }
 },
 "nbformat": 4,
 "nbformat_minor": 4
}
