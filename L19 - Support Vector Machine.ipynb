{
 "cells": [
  {
   "cell_type": "code",
   "execution_count": 1,
   "metadata": {},
   "outputs": [],
   "source": [
    "import numpy as np\n",
    "import matplotlib.pyplot as plt\n",
    "from scipy.spatial.distance import cdist\n",
    "np.random.seed(22)"
   ]
  },
  {
   "cell_type": "code",
   "execution_count": 35,
   "metadata": {},
   "outputs": [],
   "source": [
    "means = [[2, 2], [4, 2]]\n",
    "cov = [[.3, .2], [.2, .3]]\n",
    "N = 10\n",
    "X0 = np.random.multivariate_normal(means[0], cov, N).T\n",
    "X1 = np.random.multivariate_normal(means[1], cov, N).T\n",
    "X = np.concatenate((X0, X1), axis=1)\n",
    "y = np.concatenate((np.ones((1, N)), -1*np.ones((1, N))), axis=1)"
   ]
  },
  {
   "cell_type": "code",
   "execution_count": 36,
   "metadata": {},
   "outputs": [
    {
     "name": "stdout",
     "output_type": "stream",
     "text": [
      "lambda = \n",
      "[[1.56669397e-09 6.73723141e-09 2.68650895e+00 6.29774391e-09\n",
      "  1.30702792e-08 5.98483658e-09 5.09558490e-09 4.34459390e-09\n",
      "  7.70373977e-09 3.96015961e-09 5.17429324e-09 2.88279044e-09\n",
      "  3.87940714e-09 1.31525773e-08 6.95829441e-09 2.68650895e+00\n",
      "  6.84465651e-09 2.13627060e-09 6.01299193e-09 4.74887360e-09]]\n"
     ]
    }
   ],
   "source": [
    "from cvxopt import matrix, solvers\n",
    "\n",
    "V = np.concatenate((X0, -X1), axis=1)\n",
    "K = matrix(V.T.dot(V))\n",
    "\n",
    "p = matrix(-np.ones((2*N, 1)))\n",
    "\n",
    "G = matrix(-np.eye(2*N))\n",
    "h = matrix(np.zeros((2*N, 1)))\n",
    "A = matrix(y)\n",
    "b = matrix(np.zeros((1, 1)))\n",
    "solvers.options['show_progress'] = False\n",
    "sol = solvers.qp(K, p, G, h, A, b)\n",
    "\n",
    "l = np.array(sol['x'])\n",
    "print('lambda = ')\n",
    "print(l.T)"
   ]
  },
  {
   "cell_type": "code",
   "execution_count": 37,
   "metadata": {},
   "outputs": [
    {
     "name": "stdout",
     "output_type": "stream",
     "text": [
      "w =  [[-2.06680213  1.04945068]]\n",
      "b =  3.9986482831392323\n"
     ]
    }
   ],
   "source": [
    "epsilon = 1e-6\n",
    "S = np.where(l > epsilon)[0]\n",
    "\n",
    "VS = V[:, S]\n",
    "XS = X[:, S]\n",
    "yS = y[:, S]\n",
    "lS = l[S]\n",
    "\n",
    "w = VS.dot(lS)\n",
    "b = np.mean(yS.T - w.T.dot(XS))\n",
    "\n",
    "print('w = ', w.T)\n",
    "print('b = ', b)"
   ]
  },
  {
   "cell_type": "code",
   "execution_count": 38,
   "metadata": {},
   "outputs": [
    {
     "name": "stdout",
     "output_type": "stream",
     "text": [
      "w =  [[-2.06680348  1.04945138]]\n",
      "b =  [3.99865118]\n"
     ]
    }
   ],
   "source": [
    "from sklearn.svm import SVC\n",
    "\n",
    "yy = y.reshape((2*N,))\n",
    "XX = X.T\n",
    "clf = SVC(kernel='linear', C=1e5)\n",
    "\n",
    "clf.fit(XX, yy)\n",
    "\n",
    "w1 = clf.coef_\n",
    "b1 = clf.intercept_\n",
    "print('w = ', w1)\n",
    "print('b = ', b1)"
   ]
  },
  {
   "cell_type": "code",
   "execution_count": 77,
   "metadata": {},
   "outputs": [
    {
     "data": {
      "image/png": "[encoded data removed]",
      "text/plain": [
       "<Figure size 576x432 with 1 Axes>"
      ]
     },
     "metadata": {
      "needs_background": "light"
     },
     "output_type": "display_data"
    }
   ],
   "source": [
    "plt.figure(figsize=(8, 6))\n",
    "plt.plot(X0[0, :], X0[1, :], 'bs', markersize=7)\n",
    "plt.plot(X1[0, :], X1[1, :], 'ro', markersize=7)\n",
    "\n",
    "xn = np.arange(0.75, 5.25, 0.1)\n",
    "yn1 = -w1[0, 0]/w1[0, 1]*xn - b/w1[0, 1]\n",
    "#yn2 = -w1[0, 0]/w1[0, 1]*xn - (b-1)/w1[0, 1]\n",
    "#yn3 = -w1[0, 0]/w1[0, 1]*xn - (b+1)/w1[0, 1]\n",
    "\n",
    "plt.plot(xn, yn1, 'k')\n",
    "#plt.plot(xn, yn2, 'y')\n",
    "#plt.plot(xn, yn3, 'y')\n",
    "\n",
    "#plt.xlim(0.5, 5.2)\n",
    "#plt.ylim(1, 3.5)\n",
    "plt.show()"
   ]
  }
 ],
 "metadata": {
  "kernelspec": {
   "display_name": "Python 3",
   "language": "python",
   "name": "python3"
  },
  "language_info": {
   "codemirror_mode": {
    "name": "ipython",
    "version": 3
   },
   "file_extension": ".py",
   "mimetype": "text/x-python",
   "name": "python",
   "nbconvert_exporter": "python",
   "pygments_lexer": "ipython3",
   "version": "3.8.5"
  }
 },
 "nbformat": 4,
 "nbformat_minor": 4
}
