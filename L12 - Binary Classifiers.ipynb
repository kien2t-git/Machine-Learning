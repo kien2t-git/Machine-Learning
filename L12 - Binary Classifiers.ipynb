{
 "cells": [
  {
   "cell_type": "code",
   "execution_count": 1,
   "metadata": {},
   "outputs": [
    {
     "name": "stderr",
     "output_type": "stream",
     "text": [
      "<frozen importlib._bootstrap>:219: RuntimeWarning: numpy.ufunc size changed, may indicate binary incompatibility. Expected 192 from C header, got 216 from PyObject\n"
     ]
    }
   ],
   "source": [
    "import numpy as np\n",
    "from mnist import MNIST\n",
    "from sklearn import linear_model\n",
    "from sklearn.metrics import accuracy_score"
   ]
  },
  {
   "cell_type": "code",
   "execution_count": 14,
   "metadata": {},
   "outputs": [
    {
     "name": "stdout",
     "output_type": "stream",
     "text": [
      "60000\n",
      "60000\n",
      "10000\n",
      "10000\n"
     ]
    }
   ],
   "source": [
    "mntrain = MNIST('MNIST', gz=True)\n",
    "mntrain.load_training()\n",
    "Xtrain_all = np.asarray(mntrain.train_images)\n",
    "ytrain_all = np.asarray(mntrain.train_labels.tolist())\n",
    "\n",
    "mntest = MNIST('MNIST', gz=True)\n",
    "mntest.load_testing()\n",
    "Xtest_all = np.asarray(mntest.test_images)\n",
    "ytest_all = np.asarray(mntest.test_labels.tolist())\n",
    "\n",
    "print(len(Xtrain_all))\n",
    "print(len(ytrain_all))\n",
    "print(len(Xtest_all))\n",
    "print(len(ytest_all))"
   ]
  },
  {
   "cell_type": "code",
   "execution_count": 18,
   "metadata": {},
   "outputs": [],
   "source": [
    "# Extract two classes \n",
    "def extract_data(X, y, classes):\n",
    "    y_res_id = np.array([])\n",
    "    for i in classes[0]:\n",
    "        y_res_id = np.hstack((y_res_id, np.where(y==i)[0]))\n",
    "    n0 = len(y_res_id)\n",
    "    \n",
    "    for i in classes[1]:\n",
    "        y_res_id = np.hstack((y_res_id, np.where(y==i)[0]))\n",
    "    n1 = len(y_res_id) - n0\n",
    "    \n",
    "    y_res_id = y_res_id.astype('int32')\n",
    "    X_res = X[y_res_id, :]\n",
    "    y_res = np.asarray([0]*n0 + [1]*n1)\n",
    "    \n",
    "    return (X_res, y_res)"
   ]
  },
  {
   "cell_type": "code",
   "execution_count": 19,
   "metadata": {},
   "outputs": [],
   "source": [
    "# Exmaple extract for '0' and '1'\n",
    "cls = [[0], [1]]\n",
    "(X_train, y_train) = extract_data(Xtrain_all, ytrain_all, cls)\n",
    "(X_test, y_test) = extract_data(Xtest_all, ytest_all, cls)"
   ]
  },
  {
   "cell_type": "code",
   "execution_count": 21,
   "metadata": {},
   "outputs": [
    {
     "data": {
      "text/plain": [
       "99.90543735224587"
      ]
     },
     "execution_count": 21,
     "metadata": {},
     "output_type": "execute_result"
    }
   ],
   "source": [
    "logreg = linear_model.LogisticRegression(C=1e5)\n",
    "logreg.fit(X_train, y_train) # logreg.fit(Xtrain_all, ytrain_all)\n",
    "\n",
    "y_pred = logreg.predict(X_test) # y_pred = logreg.predict(Xtest_all)\n",
    "accuracy_score(y_test, y_pred.tolist()) * 100"
   ]
  },
  {
   "cell_type": "code",
   "execution_count": 22,
   "metadata": {},
   "outputs": [
    {
     "name": "stdout",
     "output_type": "stream",
     "text": [
      "(2115,)\n",
      "(2115,)\n"
     ]
    }
   ],
   "source": [
    "print(y_test.shape)\n",
    "print(y_pred.shape)"
   ]
  },
  {
   "cell_type": "code",
   "execution_count": 45,
   "metadata": {},
   "outputs": [],
   "source": [
    "def display_network(A, m = -1, n = -1):\n",
    "    opt_normalize = True\n",
    "    opt_graycolor = True\n",
    "    \n",
    "    A = A - np.average(A)\n",
    "    \n",
    "    (row, col) = A.shape\n",
    "    sz = int(np.ceil(np.sqrt(row)))\n",
    "    buf = 1\n",
    "    if m < 0 or n < 0:\n",
    "        n = np.ceil(np.sqrt(col))\n",
    "        m = np.ceil(col / n)\n",
    "        \n",
    "    image = np.ones(shape=(int(buf + m * (sz + buf)), int(buf + n * (sz + buf))))\n",
    "    \n",
    "    if not opt_graycolor:\n",
    "        image *= 0.1\n",
    "        \n",
    "    k = 0\n",
    "    \n",
    "    for i in range(int(m)):\n",
    "        for j in range(int(n)):\n",
    "            if k >= col:\n",
    "                continue\n",
    "                \n",
    "            clim = np.max(np.abs(A[:, k]))\n",
    "            \n",
    "            if opt_normalize:\n",
    "                image[buf + i * (sz + buf):buf + i * (sz + buf) + sz, buf + j * (sz + buf):buf + j * (sz + buf) + sz] = \\\n",
    "                    A[:, k].reshape(sz, sz) / clim\n",
    "            else:\n",
    "                image[buf + i * (sz + buf):buf + i * (sz + buf) + sz, buf + j * (sz + buf):buf + j * (sz + buf) + sz] = \\\n",
    "                    A[:, k].reshape(sz, sz) / np.max(np.abs(A))\n",
    "            k += 1\n",
    "            \n",
    "    return image"
   ]
  },
  {
   "cell_type": "code",
   "execution_count": 46,
   "metadata": {},
   "outputs": [
    {
     "data": {
      "image/png": "[encoded data removed]",
      "text/plain": [
       "<Figure size 432x288 with 1 Axes>"
      ]
     },
     "metadata": {
      "needs_background": "light"
     },
     "output_type": "display_data"
    }
   ],
   "source": [
    "import matplotlib.pyplot as plt\n",
    "\n",
    "mis = np.where((y_pred - y_test) != 0)[0]\n",
    "Xmis = X_test[mis, :]\n",
    "\n",
    "plt.axis('off')\n",
    "A = display_network(Xmis.T)\n",
    "f2 = plt.imshow(A, interpolation='nearest')\n",
    "plt.show()"
   ]
  }
 ],
 "metadata": {
  "kernelspec": {
   "display_name": "Python 3",
   "language": "python",
   "name": "python3"
  },
  "language_info": {
   "codemirror_mode": {
    "name": "ipython",
    "version": 3
   },
   "file_extension": ".py",
   "mimetype": "text/x-python",
   "name": "python",
   "nbconvert_exporter": "python",
   "pygments_lexer": "ipython3",
   "version": "3.8.5"
  }
 },
 "nbformat": 4,
 "nbformat_minor": 4
}
