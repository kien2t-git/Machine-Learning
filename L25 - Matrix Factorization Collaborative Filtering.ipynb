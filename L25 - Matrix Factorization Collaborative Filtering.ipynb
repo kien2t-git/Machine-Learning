{
 "cells": [
  {
   "cell_type": "code",
   "execution_count": 22,
   "metadata": {},
   "outputs": [],
   "source": [
    "import numpy as np\n",
    "import pandas as pd\n",
    "from sklearn.metrics.pairwise import cosine_similarity\n",
    "from scipy import sparse"
   ]
  },
  {
   "cell_type": "code",
   "execution_count": 23,
   "metadata": {},
   "outputs": [],
   "source": [
    "class MF(object):\n",
    "    def __init__(self, Y_data, K, lam=0.1, Xinit=None, Winit=None, lr=0.5, max_iter=1000, print_every=100, user_based=1):\n",
    "        self.Y_raw_data = Y_data\n",
    "        self.K = K\n",
    "        # regularization parameter\n",
    "        self.lam = lam\n",
    "        # learning rate for gradient descent\n",
    "        self.lr = lr\n",
    "        # maximum number of iterations\n",
    "        self.max_iter = max_iter\n",
    "        # print results after print_every iterations\n",
    "        self.print_every = print_every\n",
    "        # user-based or item-based\n",
    "        self.user_based = user_based\n",
    "        # number of users, items, and ratings. Remember to add 1 since id starts form 0\n",
    "        self.n_users = int(np.max(Y_data[:, 0])) + 1\n",
    "        self.n_items = int(np.max(Y_data[:, 1])) + 1\n",
    "        self.n_ratings = Y_data.shape[0]\n",
    "        \n",
    "        if Xinit is None:\n",
    "            self.X = np.random.randn(self.n_items, K)\n",
    "        else: \n",
    "            self.X = Xinit\n",
    "            \n",
    "        if Winit is None:\n",
    "            self.W = np.random.randn(K, self.n_users)\n",
    "        else:\n",
    "            self.W = Winit\n",
    "            \n",
    "        # normalized data, update later in normallized_Y function\n",
    "        self.Y_data_n = self.Y_raw_data.copy()\n",
    "        \n",
    "    def normalize_Y(self):\n",
    "        if self.user_based:\n",
    "            user_col = 0\n",
    "            item_col = 1\n",
    "            n_objects = self.n_users\n",
    "            \n",
    "        # if we want to normalize based on item, just switch first two columns of data\n",
    "        else:\n",
    "            user_col = 1\n",
    "            item_col = 0\n",
    "            n_objects = self.n_items\n",
    "            \n",
    "        users = self.Y_raw_data[:, user_col]\n",
    "        self.mu = np.zeros((n_objects,))\n",
    "        for n in range(n_objects):\n",
    "            # row indices of rating done by user n\n",
    "            # since indices need to be integers, we need to convert\n",
    "            ids = np.where(users == n)[0].astype(np.int32)\n",
    "            # indices of all ratings associated with user n\n",
    "            item_ids = self.Y_data_n[ids, item_col]\n",
    "            # and the corresponding ratings\n",
    "            ratings = self.Y_data_n[ids, 2]\n",
    "            # take mean\n",
    "            m = np.mean(ratings)\n",
    "            if np.isnan(m):\n",
    "                m = 0 # to avoid empty array and nan value\n",
    "            self.mu[n] = m\n",
    "            # normalize\n",
    "            self.Y_data_n[ids, 2] = ratings - self.mu[n]\n",
    "            \n",
    "    def loss(self):\n",
    "        L = 0\n",
    "        for i in range(self.n_ratings):\n",
    "            # user, item, rating\n",
    "            n, m, rate = int(self.Y_data_n[i, 0]), int(self.Y_data_n[i, 1]), self.Y_data_n[i, 2]\n",
    "            L += 0.5*(rate - self.X[m, :].dot(self.W[:, n]))**2\n",
    "            \n",
    "        # take average\n",
    "        L /= self.n_ratings\n",
    "        # regularization\n",
    "        L += 0.5*self.lam*(np.linalg.norm(self.X, 'fro') + np.linalg.norm(self.W, 'fro'))\n",
    "        return L\n",
    "    \n",
    "    def get_items_rated_by_user(self, user_id):\n",
    "        \"\"\"\n",
    "        get all items which are rated by user user_id, and the corresponding ratings\n",
    "        \"\"\"\n",
    "        ids = np.where(self.Y_data_n[:, 0] == user_id)[0]\n",
    "        item_ids = self.Y_data_n[ids, 1].astype(np.int32)\n",
    "        ratings = self.Y_data_n[ids, 2]\n",
    "        return (item_ids, ratings)\n",
    "    \n",
    "    def get_users_who_rate_item(self, item_id):\n",
    "        \"\"\"\n",
    "        get all users who rated item item_id and get the corresponding ratings\n",
    "        \"\"\"\n",
    "        ids = np.where(self.Y_data_n[:, 1] == item_id)[0]\n",
    "        user_ids = self.Y_data_n[ids, 0].astype(np.int32)\n",
    "        ratings = self.Y_data_n[ids, 2]\n",
    "        return (user_ids, ratings)\n",
    "    \n",
    "    def updateX(self):\n",
    "        for m in range(self.n_items):\n",
    "            user_ids, ratings = self.get_users_who_rate_item(m)\n",
    "            Wm = self.W[:, user_ids]\n",
    "            # gradient\n",
    "            grad_xm = -(ratings - self.X[m, :].dot(Wm)).dot(Wm.T)/self.n_ratings + self.lam*self.X[m, :]\n",
    "            self.X[m, :] -= self.lr*grad_xm.reshape((self.K,))\n",
    "            \n",
    "    def updateW(self):\n",
    "        for n in range(self.n_users):\n",
    "            item_ids, ratings = self.get_items_rated_by_user(n)\n",
    "            Xn = self.X[item_ids, :]\n",
    "            # gradient\n",
    "            grad_wm = -Xn.T.dot(ratings - Xn.dot(self.W[:, n]))/self.n_ratings + self.lam*self.W[:, n]\n",
    "            self.W[:, n] -= self.lr*grad_wm.reshape((self.K,))\n",
    "\n",
    "    def fit(self):\n",
    "        self.normalize_Y()\n",
    "        for it in range(self.max_iter):\n",
    "            self.updateX()\n",
    "            self.updateW()\n",
    "            if (it + 1) % self.print_every == 0:\n",
    "                rmse_train = self.evaluate_RMSE(self.Y_raw_data)\n",
    "                print ('iter =', it + 1, ', loss =', self.loss(), ', RMSE train =', rmse_train)\n",
    "                \n",
    "    def pred(self, u, i):\n",
    "        \"\"\"\n",
    "        predict the rating of user u for item i\n",
    "        if you need the un\n",
    "        \"\"\"\n",
    "        u = int(u)\n",
    "        i = int(i)\n",
    "        if self.user_based:\n",
    "            bias = self.mu[u]\n",
    "        else:\n",
    "            bias = self.mu[i]\n",
    "        pred = self.X[i, :].dot(self.W[:, u]) + bias\n",
    "        # truncate if results are out of range [0, 5]\n",
    "        if pred < 0:\n",
    "            return 0\n",
    "        if pred > 5:\n",
    "            return 5\n",
    "        return pred\n",
    "    \n",
    "    def pred_for_user(self, user_id):\n",
    "        \"\"\"\n",
    "        predict ratings one user give all unrated items\n",
    "        \"\"\"\n",
    "        ids = np.where(self.Y_data_n[:, 0] == user_id)[0]\n",
    "        items_rated_by_u = self.Y_data_n[ids, 1].tolist()\n",
    "        \n",
    "        y_pred = self.X.dot(self.W[: user_id]) + self.mu[user_id]\n",
    "        predicted_ratings = []\n",
    "        for i in range(self.n_items):\n",
    "            if i not in items_rated_by_u:\n",
    "                predicted_ratings.append((i, y_pred[i]))\n",
    "                \n",
    "        return predicted_ratings\n",
    "    \n",
    "    def evaluate_RMSE(self, rate_test):\n",
    "        n_tests = rate_test.shape[0]\n",
    "        SE = 0\n",
    "        for n in range(n_tests):\n",
    "            pred = self.pred(rate_test[n, 0], rate_test[n, 1])\n",
    "            SE += (pred - rate_test[n, 2])**2\n",
    "            \n",
    "        RMSE = np.sqrt(SE/n_tests)\n",
    "        return RMSE"
   ]
  },
  {
   "cell_type": "code",
   "execution_count": 24,
   "metadata": {},
   "outputs": [],
   "source": [
    "r_cols = ['user_id', 'movie_id', 'rating', 'unix_timestamp']\n",
    "\n",
    "ratings_base = pd.read_csv('ml-100k/ub.base', sep='\\t', names=r_cols, encoding='latin-1')\n",
    "ratings_test = pd.read_csv('ml-100k/ub.test', sep='\\t', names=r_cols, encoding='latin-1')\n",
    "\n",
    "rate_train = ratings_base.values\n",
    "rate_test = ratings_test.values\n",
    "\n",
    "# indices start from 0\n",
    "# rate_train[:, :2] -= 1\n",
    "# rate_test[:, :2] -= 1"
   ]
  },
  {
   "cell_type": "code",
   "execution_count": 25,
   "metadata": {},
   "outputs": [
    {
     "name": "stdout",
     "output_type": "stream",
     "text": [
      "iter = 10 , loss = 5.638501768416784 , RMSE train = 1.2082813651849553\n",
      "iter = 20 , loss = 2.6318962004957926 , RMSE train = 1.0379857329497597\n",
      "iter = 30 , loss = 1.3398929281366536 , RMSE train = 1.029529411451851\n",
      "iter = 40 , loss = 0.7512589476577023 , RMSE train = 1.0292110434546553\n",
      "iter = 50 , loss = 0.48149196080217505 , RMSE train = 1.0292102143517956\n",
      "iter = 60 , loss = 0.35778775331372314 , RMSE train = 1.0292132401833765\n",
      "iter = 70 , loss = 0.30105891092454445 , RMSE train = 1.029214076163222\n",
      "iter = 80 , loss = 0.2750438513559969 , RMSE train = 1.0292142730230034\n",
      "iter = 90 , loss = 0.26311371540170514 , RMSE train = 1.0292143179243967\n",
      "iter = 100 , loss = 0.25764272746308026 , RMSE train = 1.0292143280626591\n"
     ]
    }
   ],
   "source": [
    "rs = MF(rate_train, K=10, lam=.1, print_every=10, lr=0.75, max_iter=100, user_based=1)\n",
    "rs.fit()"
   ]
  },
  {
   "cell_type": "code",
   "execution_count": 26,
   "metadata": {},
   "outputs": [
    {
     "name": "stdout",
     "output_type": "stream",
     "text": [
      "User-based MF, RMSE = 1.0603798989561035\n"
     ]
    }
   ],
   "source": [
    "RMSE = rs.evaluate_RMSE(rate_test)\n",
    "print('User-based MF, RMSE =', RMSE)"
   ]
  },
  {
   "cell_type": "code",
   "execution_count": 28,
   "metadata": {},
   "outputs": [
    {
     "name": "stdout",
     "output_type": "stream",
     "text": [
      "iter = 10 , loss = 5.624306265507605 , RMSE train = 1.1769947635507407\n",
      "iter = 20 , loss = 2.616851378258404 , RMSE train = 1.0049328619679445\n",
      "iter = 30 , loss = 1.3239071451008388 , RMSE train = 0.9964453753376745\n",
      "iter = 40 , loss = 0.7347632074508645 , RMSE train = 0.9961649766499753\n",
      "iter = 50 , loss = 0.4647469546755554 , RMSE train = 0.9961740516627544\n",
      "iter = 60 , loss = 0.34092498872904275 , RMSE train = 0.9961792365938088\n",
      "iter = 70 , loss = 0.2841412877690985 , RMSE train = 0.9961805282165835\n",
      "iter = 80 , loss = 0.2581008286185066 , RMSE train = 0.9961808205943621\n",
      "iter = 90 , loss = 0.2461589652529975 , RMSE train = 0.9961808854917167\n",
      "iter = 100 , loss = 0.2406825695105039 , RMSE train = 0.9961808998148076\n"
     ]
    }
   ],
   "source": [
    "# Chuan hoa dua tren item:\n",
    "rs = MF(rate_train, K=10, lam=.1, print_every=10, lr=.75, max_iter=100, user_based=0)\n",
    "rs.fit()"
   ]
  },
  {
   "cell_type": "code",
   "execution_count": 29,
   "metadata": {},
   "outputs": [
    {
     "name": "stdout",
     "output_type": "stream",
     "text": [
      "Item-based MF, RMSE = 1.0498047474766652\n"
     ]
    }
   ],
   "source": [
    "RMSE = rs.evaluate_RMSE(rate_test)\n",
    "print('Item-based MF, RMSE =', RMSE)"
   ]
  },
  {
   "cell_type": "code",
   "execution_count": 30,
   "metadata": {},
   "outputs": [
    {
     "name": "stdout",
     "output_type": "stream",
     "text": [
      "iter = 10 , loss = 5.008111158239367 , RMSE train = 2.1330315600848158\n",
      "iter = 20 , loss = 4.738749269778628 , RMSE train = 2.1119351809271993\n",
      "iter = 30 , loss = 4.493455737514643 , RMSE train = 2.0911553101231086\n",
      "iter = 40 , loss = 4.269347736692988 , RMSE train = 2.0707161198150197\n",
      "iter = 50 , loss = 4.063969354204126 , RMSE train = 2.050634463976294\n",
      "iter = 60 , loss = 3.8752170163473574 , RMSE train = 2.0309396271592246\n",
      "iter = 70 , loss = 3.701279814129225 , RMSE train = 2.011644898692956\n",
      "iter = 80 , loss = 3.5405913963927556 , RMSE train = 1.9926770447928284\n",
      "iter = 90 , loss = 3.3917909200809695 , RMSE train = 1.9741479462013052\n",
      "iter = 100 , loss = 3.2536911470852665 , RMSE train = 1.9560391483595476\n",
      "Item-based MF, RMSE = 2.0397682685002843\n"
     ]
    }
   ],
   "source": [
    "# Khong su dung regularization => lam=0\n",
    "rs = MF(rate_train, K=10, lam=0, print_every=10, lr=.75, max_iter=100, user_based=0)\n",
    "rs.fit()\n",
    "RMSE = rs.evaluate_RMSE(rate_test)\n",
    "print('Item-based MF, RMSE =', RMSE)"
   ]
  },
  {
   "cell_type": "code",
   "execution_count": 18,
   "metadata": {},
   "outputs": [
    {
     "name": "stderr",
     "output_type": "stream",
     "text": [
      "<ipython-input-18-6481b558bbc1>:4: ParserWarning: Falling back to the 'python' engine because the 'c' engine does not support regex separators (separators > 1 char and different from '\\s+' are interpreted as regex); you can avoid this warning by specifying engine='python'.\n",
      "  ratings_base = pd.read_csv('archive-2/ratings.dat', sep='::', names=r_cols, encoding='latin-1')\n"
     ]
    }
   ],
   "source": [
    "# Apply to MovieLens 1M\n",
    "r_col = ['user_id', 'movie_id', 'rating', 'unix_timestamp']\n",
    "\n",
    "ratings_base = pd.read_csv('archive-2/ratings.dat', sep='::', names=r_cols, encoding='latin-1')\n",
    "ratings = ratings_base.values"
   ]
  },
  {
   "cell_type": "code",
   "execution_count": 20,
   "metadata": {},
   "outputs": [
    {
     "name": "stdout",
     "output_type": "stream",
     "text": [
      "(670140, 4) (330069, 4)\n"
     ]
    }
   ],
   "source": [
    "from sklearn.model_selection import train_test_split\n",
    "\n",
    "rate_train, rate_test = train_test_split(ratings, test_size=0.33, random_state=42)\n",
    "print(rate_train.shape, rate_test.shape)"
   ]
  },
  {
   "cell_type": "code",
   "execution_count": 21,
   "metadata": {},
   "outputs": [
    {
     "name": "stderr",
     "output_type": "stream",
     "text": [
      "/Users/apple/opt/anaconda3/lib/python3.8/site-packages/numpy/core/fromnumeric.py:3372: RuntimeWarning: Mean of empty slice.\n",
      "  return _methods._mean(a, axis=axis, dtype=dtype,\n",
      "/Users/apple/opt/anaconda3/lib/python3.8/site-packages/numpy/core/_methods.py:170: RuntimeWarning: invalid value encountered in double_scalars\n",
      "  ret = ret.dtype.type(ret / rcount)\n"
     ]
    },
    {
     "name": "stdout",
     "output_type": "stream",
     "text": [
      "iter = 2 , loss = 6.755689218032276 , RMSE train = 1.1159295696738227\n",
      "iter = 4 , loss = 4.323288464167259 , RMSE train = 1.0009970930409624\n",
      "iter = 6 , loss = 2.832858344479268 , RMSE train = 0.977951188444279\n",
      "iter = 8 , loss = 1.8901251129678633 , RMSE train = 0.9740304153465151\n",
      "iter = 10 , loss = 1.2886585001304676 , RMSE train = 0.9733840440896254\n",
      "Item-based MF, RMSE = 0.9815911974470984\n"
     ]
    }
   ],
   "source": [
    "rs = MF(rate_train, K=2, lam=0.1, print_every=2, lr=2, max_iter=10, user_based=0)\n",
    "rs.fit()\n",
    "RMSE = rs.evaluate_RMSE(rate_test)\n",
    "print('Item-based MF, RMSE =', RMSE)"
   ]
  }
 ],
 "metadata": {
  "kernelspec": {
   "display_name": "Python 3",
   "language": "python",
   "name": "python3"
  },
  "language_info": {
   "codemirror_mode": {
    "name": "ipython",
    "version": 3
   },
   "file_extension": ".py",
   "mimetype": "text/x-python",
   "name": "python",
   "nbconvert_exporter": "python",
   "pygments_lexer": "ipython3",
   "version": "3.8.5"
  }
 },
 "nbformat": 4,
 "nbformat_minor": 4
}
