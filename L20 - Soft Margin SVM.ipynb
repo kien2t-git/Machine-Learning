{
 "cells": [
  {
   "cell_type": "code",
   "execution_count": 1,
   "metadata": {},
   "outputs": [],
   "source": [
    "import numpy as np\n",
    "import matplotlib.pyplot as plt\n",
    "from scipy.spatial.distance import cdist\n",
    "np.random.seed(21)"
   ]
  },
  {
   "cell_type": "code",
   "execution_count": 36,
   "metadata": {},
   "outputs": [
    {
     "data": {
      "image/png": "[encoded data removed]",
      "text/plain": [
       "<Figure size 432x288 with 1 Axes>"
      ]
     },
     "metadata": {
      "needs_background": "light"
     },
     "output_type": "display_data"
    }
   ],
   "source": [
    "means = [[2, 2], [4, 2]]\n",
    "cov = [[.3, .2], [.2, .3]]\n",
    "N = 20\n",
    "X0 = np.random.multivariate_normal(means[0], cov, N)\n",
    "X1 = np.random.multivariate_normal(means[1], cov, N)\n",
    "plt.plot(X0[:, 0], X0[:, 1], 'ro', markersize=7)\n",
    "plt.plot(X1[:, 0], X1[:, 1], 'bs', markersize=7)\n",
    "plt.show()"
   ]
  },
  {
   "cell_type": "code",
   "execution_count": 44,
   "metadata": {},
   "outputs": [
    {
     "name": "stdout",
     "output_type": "stream",
     "text": [
      "(40, 2)\n",
      "(40,)\n"
     ]
    }
   ],
   "source": [
    "X = np.concatenate((X0, X1), axis=0)\n",
    "y = np.concatenate((np.ones((1, N)), -1*np.ones((1, N))), axis=1).reshape(2*N,)\n",
    "print(X.shape)\n",
    "print(y.shape)"
   ]
  },
  {
   "cell_type": "code",
   "execution_count": 60,
   "metadata": {},
   "outputs": [
    {
     "name": "stdout",
     "output_type": "stream",
     "text": [
      "[[-5.63619298  3.99138038]] \n",
      " 9.428581334546687\n"
     ]
    }
   ],
   "source": [
    "#SKLEARN\n",
    "from sklearn.svm import SVC\n",
    "C = 100\n",
    "clf = SVC(kernel = 'linear', C=C)\n",
    "clf.fit(X, y)\n",
    "\n",
    "w_sklearn = clf.coef_.reshape(-1, 1)\n",
    "b_sklearn = clf.intercept_[0]\n",
    "print(w_sklearn.T, '\\n', b_sklearn)"
   ]
  },
  {
   "cell_type": "code",
   "execution_count": 61,
   "metadata": {},
   "outputs": [
    {
     "data": {
      "image/png": "[encoded data removed]",
      "text/plain": [
       "<Figure size 432x288 with 1 Axes>"
      ]
     },
     "metadata": {
      "needs_background": "light"
     },
     "output_type": "display_data"
    }
   ],
   "source": [
    "xn = np.arange(1, 5.5, .1)\n",
    "yn = -w_sklearn.T[0, 0]/w_sklearn.T[0, 1]*xn - b_sklearn/w_sklearn.T[0, 1]\n",
    "\n",
    "plt.plot(X0[:, 0], X0[:, 1], 'ro', markersize=7)\n",
    "plt.plot(X1[:, 0], X1[:, 1], 'bs', markersize=7)\n",
    "plt.plot(xn, yn, 'k')\n",
    "plt.show()"
   ]
  },
  {
   "cell_type": "code",
   "execution_count": 63,
   "metadata": {},
   "outputs": [
    {
     "name": "stdout",
     "output_type": "stream",
     "text": [
      "lambda = \n",
      " [[2.50910007e-08 3.49493110e-08 9.11660651e-08 1.07269897e-06\n",
      "  2.02649946e-07 4.30506205e-08 2.38615836e+01 2.18362714e-08\n",
      "  2.66473821e-08 2.50526462e-08 2.90936222e-08 1.87615292e-08\n",
      "  1.40186891e-07 1.84414421e-08 6.86549093e-08 2.41921307e-08\n",
      "  2.47319243e-08 2.76775367e-08 2.88865955e-08 2.60327576e-08\n",
      "  1.58881850e-07 1.40564077e-08 2.30822200e-08 1.44632230e-07\n",
      "  1.93310492e-07 5.66639997e-08 6.21583589e-08 3.68023683e-08\n",
      "  2.87621672e-08 3.31867166e-08 2.01677264e-08 7.85658249e-08\n",
      "  1.57035136e+01 6.19547573e-08 5.61224432e-08 7.29418734e-08\n",
      "  8.15807075e+00 8.49492524e-08 8.51279007e-08 1.44417344e-08]]\n"
     ]
    }
   ],
   "source": [
    "# By dual problems\n",
    "from cvxopt import matrix, solvers\n",
    "\n",
    "V = np.concatenate((X0.T, -X1.T), axis=1)\n",
    "K = matrix(V.T.dot(V))\n",
    "\n",
    "p = matrix(-np.ones((2*N, 1)))\n",
    "G = matrix(np.vstack((-np.eye(2*N), np.eye(2*N))))\n",
    "\n",
    "h = np.vstack((np.zeros((2*N, 1)), C*np.ones((2*N, 1))))\n",
    "h = matrix(np.vstack((np.zeros((2*N, 1)), C*np.ones((2*N, 1)))))\n",
    "A = matrix(y.reshape((-1, 2*N)))\n",
    "b = matrix(np.zeros((1, 1)))\n",
    "solvers.options['show_progress'] = False\n",
    "sol = solvers.qp(K, p, G, h, A, b)\n",
    "\n",
    "l = np.array(sol['x'])\n",
    "print('lambda = \\n', l.T)"
   ]
  },
  {
   "cell_type": "code",
   "execution_count": 68,
   "metadata": {},
   "outputs": [
    {
     "name": "stdout",
     "output_type": "stream",
     "text": [
      "[6, 32, 36]\n"
     ]
    }
   ],
   "source": [
    "S = np.where(l > 1e-5)[0]\n",
    "S2 = np.where(l < .99*C)[0]\n",
    "\n",
    "M = [val for val in S if val in S2] #intersection of two lists\n",
    "#M = list(set(S) & set(S2))\n",
    "print(M)"
   ]
  },
  {
   "cell_type": "code",
   "execution_count": 70,
   "metadata": {},
   "outputs": [
    {
     "name": "stdout",
     "output_type": "stream",
     "text": [
      "[[-5.63787108  3.99219033]]\n",
      "9.432273329077546\n"
     ]
    }
   ],
   "source": [
    "XT = X.T # each col is one data point in this alg\n",
    "VS = V[:, S]\n",
    "lS = l[S]\n",
    "yM = y[M]\n",
    "XM = XT[:, M]\n",
    "w_dual = VS.dot(lS).reshape(-1, 1)\n",
    "b_dual = np.mean(yM.T - w_dual.T.dot(XM))\n",
    "\n",
    "print(w_dual.T)\n",
    "print(b_dual)"
   ]
  },
  {
   "cell_type": "code",
   "execution_count": 73,
   "metadata": {},
   "outputs": [
    {
     "name": "stdout",
     "output_type": "stream",
     "text": [
      "Gradient different: 0.000000\n"
     ]
    }
   ],
   "source": [
    "#Khong rang buoc\n",
    "X0_bar = np.vstack((X0.T, np.ones((1, N))))\n",
    "X1_bar = np.vstack((X1.T, np.ones((1, N))))\n",
    "\n",
    "Z = np.hstack((X0_bar, -X1_bar))\n",
    "lam = 1./C\n",
    "\n",
    "def cost(w):\n",
    "    u = w.T.dot(Z)\n",
    "    return (np.sum(np.maximum(0, 1-u)) + .5*lam*np.sum(w*w)) - .5*lam*w[-1]*w[-1]\n",
    "\n",
    "def grad(w):\n",
    "    u = w.T.dot(Z)\n",
    "    H = np.where(u < 1)[1]\n",
    "    ZS = Z[:, H]\n",
    "    g = (-np.sum(ZS, axis=1, keepdims=True) + lam*w)\n",
    "    g[-1] -= lam*w[-1]\n",
    "    return g\n",
    "\n",
    "eps = 1e-6\n",
    "\n",
    "def num_grad(w):\n",
    "    g = np.zeros_like(w)\n",
    "    for i in range(len(w)):\n",
    "        wp = w.copy()\n",
    "        wm = w.copy()\n",
    "        wp[i] += eps\n",
    "        wm[i] -= eps\n",
    "        g[i] = (cost(wp) - cost(wm))/(2*eps)\n",
    "    return g\n",
    "\n",
    "w0 = np.random.randn(X0_bar.shape[0], 1)\n",
    "g1 = grad(w0)\n",
    "g2 = num_grad(w0)\n",
    "diff = np.linalg.norm(g1 - g2)\n",
    "print('Gradient different: %f' %diff)"
   ]
  },
  {
   "cell_type": "code",
   "execution_count": 76,
   "metadata": {},
   "outputs": [
    {
     "name": "stdout",
     "output_type": "stream",
     "text": [
      "iter 1 cost: 51.865309\n",
      "iter 10001 cost: 1.274161\n",
      "iter 20001 cost: 0.798690\n",
      "iter 30001 cost: 0.378844\n",
      "iter 40001 cost: 0.239039\n",
      "iter 50001 cost: 0.259449\n",
      "iter 60001 cost: 0.264099\n",
      "iter 70001 cost: 0.239495\n",
      "iter 80001 cost: 0.239233\n",
      "iter 90001 cost: 0.239031\n",
      "[[-5.64631502  3.99448732]]\n",
      "[9.4364721]\n"
     ]
    }
   ],
   "source": [
    "\"\"\"\n",
    "Vì sự khác nhau giữa hai cách tính gradient là bằng 0 => Phép tính Gradient Descent chính xác:\n",
    "\"\"\"\n",
    "def grad_descent(w0, eta):\n",
    "    w = w0\n",
    "    it = 0\n",
    "    while it < 100000:\n",
    "        it = it +1\n",
    "        g = grad(w)\n",
    "        w -= eta*g\n",
    "        if (it % 10000) == 1:\n",
    "            print('iter %d' %it + ' cost: %f' %cost(w))\n",
    "        if np.linalg.norm(g) < 1e-5:\n",
    "            break\n",
    "    return w\n",
    "\n",
    "w0 = np.random.randn(X0_bar.shape[0], 1)\n",
    "w = grad_descent(w0, 0.001)\n",
    "w_hinge = w[: -1].reshape(-1, 1)\n",
    "b_hinge = w[-1]\n",
    "\n",
    "print(w_hinge.T)\n",
    "print(b_hinge)"
   ]
  },
  {
   "cell_type": "code",
   "execution_count": 77,
   "metadata": {},
   "outputs": [
    {
     "name": "stdout",
     "output_type": "stream",
     "text": [
      "[[-5.63619298  3.99138038]]\n",
      "9.428581334546687\n",
      "[[-5.63787108  3.99219033]]\n",
      "9.432273329077546\n",
      "[[-5.64631502  3.99448732]]\n",
      "[9.4364721]\n"
     ]
    }
   ],
   "source": [
    "print(w_sklearn.T)\n",
    "print(b_sklearn)\n",
    "print(w_dual.T)\n",
    "print(b_dual)\n",
    "print(w_hinge.T)\n",
    "print(b_hinge)"
   ]
  }
 ],
 "metadata": {
  "kernelspec": {
   "display_name": "Python 3",
   "language": "python",
   "name": "python3"
  },
  "language_info": {
   "codemirror_mode": {
    "name": "ipython",
    "version": 3
   },
   "file_extension": ".py",
   "mimetype": "text/x-python",
   "name": "python",
   "nbconvert_exporter": "python",
   "pygments_lexer": "ipython3",
   "version": "3.8.5"
  }
 },
 "nbformat": 4,
 "nbformat_minor": 4
}
