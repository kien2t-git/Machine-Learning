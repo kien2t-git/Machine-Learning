{
 "cells": [
  {
   "cell_type": "code",
   "execution_count": 1,
   "metadata": {},
   "outputs": [],
   "source": [
    "import numpy as np\n",
    "import matplotlib.pyplot as plt\n",
    "np.random.seed(2)"
   ]
  },
  {
   "cell_type": "code",
   "execution_count": 39,
   "metadata": {},
   "outputs": [],
   "source": [
    "X = np.array([[0.5, 0.75, 1, 1.25, 1.5, 1.75, 1.75, 2, 2.25, 2.5, 2.75, 3, 3.25, 3.5, 4, 4.25, 4.5, 4.75, 5, 5.5]])\n",
    "y = np.array([0, 0, 0, 0, 0, 0, 1, 0, 1, 0, 1, 0, 1, 0, 1, 1, 1, 1, 1, 1])\n",
    "\n",
    "X = np.concatenate((np.ones((1, X.shape[1])), X), axis=0)"
   ]
  },
  {
   "cell_type": "code",
   "execution_count": 40,
   "metadata": {},
   "outputs": [],
   "source": [
    "def sigmoid(s):\n",
    "    return 1/(1 + np.exp(-s))\n",
    "\n",
    "def logistic_sigmoid_regression(X, y, w_init, eta):\n",
    "    tol = 1e-4\n",
    "    max_count = 10000\n",
    "    w = [w_init]\n",
    "    it = 0\n",
    "    N = X.shape[1]\n",
    "    d = X.shape[0]\n",
    "    count = 0\n",
    "    check_w_after = 20\n",
    "    while count < max_count:\n",
    "        mix_id = np.random.permutation(N)\n",
    "        for i in mix_id:\n",
    "            xi = X[:, i].reshape(d, 1)\n",
    "            yi = y[i]\n",
    "            zi = sigmoid(np.dot(w[-1].T, xi))\n",
    "            w_new = w[-1] + eta * (yi - zi) * xi\n",
    "            count += 1\n",
    "            # Stopping criteria\n",
    "            if count%check_w_after == 0:\n",
    "                if np.linalg.norm(w_new - w[-check_w_after]) < tol:\n",
    "                    return w\n",
    "            w.append(w_new)\n",
    "    return w"
   ]
  },
  {
   "cell_type": "code",
   "execution_count": 41,
   "metadata": {},
   "outputs": [
    {
     "name": "stdout",
     "output_type": "stream",
     "text": [
      "(2, 20)\n",
      "[[-4.09867021]\n",
      " [ 1.53189434]]\n"
     ]
    }
   ],
   "source": [
    "print(X.shape)\n",
    "eta = .05\n",
    "w_init = np.random.randn(X.shape[0], 1)\n",
    "w = logistic_sigmoid_regression(X, y, w_init, eta)\n",
    "\n",
    "print(w[-1])"
   ]
  },
  {
   "cell_type": "code",
   "execution_count": 42,
   "metadata": {},
   "outputs": [
    {
     "name": "stdout",
     "output_type": "stream",
     "text": [
      "[[0.0344655  0.04974835 0.07130752 0.10121451 0.14175022 0.19499805\n",
      "  0.19499805 0.26213881 0.34255972 0.43316873 0.52847895 0.62175707\n",
      "  0.7068194  0.77953523 0.88379889 0.91772879 0.94239713 0.95999132\n",
      "  0.97236912 0.98696181]]\n"
     ]
    }
   ],
   "source": [
    "print(sigmoid(np.dot(w[-1].T, X)))"
   ]
  },
  {
   "cell_type": "code",
   "execution_count": 59,
   "metadata": {},
   "outputs": [
    {
     "name": "stdout",
     "output_type": "stream",
     "text": [
      "[[1.   1.   1.   1.   1.   1.   1.   1.   1.   1.   1.   1.   1.   1.\n",
      "  1.   1.   1.   1.   1.   1.  ]\n",
      " [0.5  0.75 1.   1.25 1.5  1.75 1.75 2.   2.25 2.5  2.75 3.   3.25 3.5\n",
      "  4.   4.25 4.5  4.75 5.   5.5 ]]\n"
     ]
    },
    {
     "data": {
      "image/png": "[encoded data removed]",
      "text/plain": [
       "<Figure size 432x288 with 1 Axes>"
      ]
     },
     "metadata": {
      "needs_background": "light"
     },
     "output_type": "display_data"
    }
   ],
   "source": [
    "print(X)\n",
    "X0 = X[1, np.where(y==0)][0]\n",
    "y0 = np.zeros(X0.shape[0]) # =y[np.where(y==0)]\n",
    "X1 = X[1, np.where(y==1)][0]\n",
    "y1 = np.ones(X1.shape[0]) # =y[np.where(y==1)]\n",
    "\n",
    "plt.plot(X0, y0, 'ro', markersize=8)\n",
    "plt.plot(X1, y1, 'bs', markersize=8)\n",
    "\n",
    "xx = np.linspace(0, 6)\n",
    "w0 = w[-1][0][0]\n",
    "w1 = w[-1][1][0]\n",
    "yy = sigmoid(w0 + w1*xx)\n",
    "\n",
    "plt.plot(xx, yy, 'g-')\n",
    "plt.plot(abs(w0/w1), .5, 'y^', markersize=8) # Hard threshold (ngưỡng cứng)\n",
    "plt.axis([-1, 7, -1, 2])\n",
    "plt.xlabel('Studying hours')\n",
    "plt.ylabel('Predicted probability of pass')\n",
    "plt.show()"
   ]
  },
  {
   "cell_type": "code",
   "execution_count": 60,
   "metadata": {},
   "outputs": [],
   "source": [
    "# Example of 2D data\n",
    "from scipy.spatial.distance import cdist\n",
    "np.random.seed(22)\n",
    "\n",
    "means = [[2, 2], [4, 2]]\n",
    "cov = [[.7, 0], [0, .7]]\n",
    "N = 20\n",
    "X0 = np.random.multivariate_normal(means[0], cov, N)\n",
    "X1 = np.random.multivariate_normal(means[1], cov, N)"
   ]
  },
  {
   "cell_type": "code",
   "execution_count": 67,
   "metadata": {},
   "outputs": [
    {
     "data": {
      "image/png": "[encoded data removed]",
      "text/plain": [
       "<Figure size 432x288 with 1 Axes>"
      ]
     },
     "metadata": {
      "needs_background": "light"
     },
     "output_type": "display_data"
    }
   ],
   "source": [
    "plt.plot(X0[:, 0], X0[:, 1], 'bs', markersize = 8, alpha = 1)\n",
    "plt.plot(X1[:, 0], X1[:, 1], 'ro', markersize = 8, alpha = 1)\n",
    "plt.axis('equal')\n",
    "plt.show()"
   ]
  },
  {
   "cell_type": "code",
   "execution_count": 79,
   "metadata": {},
   "outputs": [
    {
     "name": "stdout",
     "output_type": "stream",
     "text": [
      "[[-9.45677497]\n",
      " [ 2.23175913]\n",
      " [ 1.39524291]]\n"
     ]
    }
   ],
   "source": [
    "XX = np.concatenate((X0, X1), axis=0).T\n",
    "yy = np.concatenate((np.zeros((1, N)), np.ones((1, N))), axis=1).T\n",
    "# Xbar\n",
    "XX = np.concatenate((np.ones((1, 2*N)), XX), axis=0)\n",
    "\n",
    "eta2 = .05\n",
    "w2_init = np.random.randn(XX.shape[0], 1)\n",
    "\n",
    "w2 = logistic_sigmoid_regression(XX, yy, w2_init, eta2)\n",
    "print(w2[-1])"
   ]
  },
  {
   "cell_type": "code",
   "execution_count": 115,
   "metadata": {},
   "outputs": [
    {
     "data": {
      "image/png": "[encoded data removed]",
      "text/plain": [
       "<Figure size 432x288 with 1 Axes>"
      ]
     },
     "metadata": {
      "needs_background": "light"
     },
     "output_type": "display_data"
    }
   ],
   "source": [
    "ww0 = w2[-1][0][0]\n",
    "ww1 = w2[-1][1][0]\n",
    "ww2 = w2[-1][2][0]\n",
    "xm = np.arange(-1, 6, .025)\n",
    "ym = np.arange(-1, 5, .025)\n",
    "x1m, y1m = np.meshgrid(xm, ym)\n",
    "zm = sigmoid(ww0 + ww1*x1m + ww2*y1m)\n",
    "\n",
    "plt.contourf(xm, ym, zm, 200, cmap = 'jet')\n",
    "\n",
    "plt.plot(X0[:, 0], X0[:, 1], 'bs', markersize = 8, alpha = 1)\n",
    "plt.plot(X1[:, 0], X1[:, 1], 'ro', markersize = 8, alpha = 1)\n",
    "plt.axis('off')\n",
    "plt.show()"
   ]
  }
 ],
 "metadata": {
  "kernelspec": {
   "display_name": "Python 3",
   "language": "python",
   "name": "python3"
  },
  "language_info": {
   "codemirror_mode": {
    "name": "ipython",
    "version": 3
   },
   "file_extension": ".py",
   "mimetype": "text/x-python",
   "name": "python",
   "nbconvert_exporter": "python",
   "pygments_lexer": "ipython3",
   "version": "3.8.5"
  }
 },
 "nbformat": 4,
 "nbformat_minor": 4
}
