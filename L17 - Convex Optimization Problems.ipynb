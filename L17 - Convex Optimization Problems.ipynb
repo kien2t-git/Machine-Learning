{
 "cells": [
  {
   "cell_type": "code",
   "execution_count": 4,
   "metadata": {},
   "outputs": [
    {
     "name": "stdout",
     "output_type": "stream",
     "text": [
      "[ 6.00e+00]\n",
      "[ 4.00e+00]\n",
      "\n"
     ]
    }
   ],
   "source": [
    "from cvxopt import matrix, solvers\n",
    "c = matrix([-5., -3.])\n",
    "G = matrix([[1., 2., 1., -1., 0.,], [1., 1., 4., 0., -1.]])\n",
    "h = matrix([10., 16., 32., 0., 0.])\n",
    "\n",
    "solvers.options['show_progress'] = False\n",
    "sol = solvers.lp(c, G, h)\n",
    "\n",
    "print(sol['x'])"
   ]
  },
  {
   "cell_type": "code",
   "execution_count": 5,
   "metadata": {},
   "outputs": [
    {
     "name": "stdout",
     "output_type": "stream",
     "text": [
      "Solution:\n",
      "[[1.58489319]\n",
      " [1.58489319]\n",
      " [1.58489319]]\n",
      "Checking sol^5:\n",
      "[[9.9999998]\n",
      " [9.9999998]\n",
      " [9.9999998]]\n"
     ]
    }
   ],
   "source": [
    "from math import log, exp\n",
    "from numpy import array\n",
    "import numpy as np\n",
    "\n",
    "K = [4]\n",
    "F = matrix([[-1., 1., 1., 0.],\n",
    "            [-1., 1., 0., 1.],\n",
    "            [-1., 0., 1., 1.]])\n",
    "g = matrix([log(40.), log(2.), log(2.), log(2.)])\n",
    "solvers.options['show_progress'] = False\n",
    "sol = solvers.gp(K, F, g)\n",
    "\n",
    "print('Solution:')\n",
    "print(np.exp(np.array(sol['x'])))\n",
    "\n",
    "print('Checking sol^5:')\n",
    "print(np.exp(np.array(sol['x']))**5)"
   ]
  }
 ],
 "metadata": {
  "kernelspec": {
   "display_name": "Python 3",
   "language": "python",
   "name": "python3"
  },
  "language_info": {
   "codemirror_mode": {
    "name": "ipython",
    "version": 3
   },
   "file_extension": ".py",
   "mimetype": "text/x-python",
   "name": "python",
   "nbconvert_exporter": "python",
   "pygments_lexer": "ipython3",
   "version": "3.8.5"
  }
 },
 "nbformat": 4,
 "nbformat_minor": 4
}
